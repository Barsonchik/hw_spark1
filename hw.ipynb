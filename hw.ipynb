{
 "cells": [
  {
   "cell_type": "markdown",
   "id": "0589b81a",
   "metadata": {},
   "source": [
    "**Домашнее задание 1**<br>\n",
    "Найти самую длинную последовательность упорядоченных чисел в RDD и вывести ее"
   ]
  },
  {
   "cell_type": "code",
   "execution_count": 1,
   "id": "aa0b34e7",
   "metadata": {},
   "outputs": [],
   "source": [
    "from pyspark import SparkContext\n"
   ]
  },
  {
   "cell_type": "code",
   "execution_count": null,
   "id": "0853550b",
   "metadata": {},
   "outputs": [
    {
     "name": "stdout",
     "output_type": "stream",
     "text": [
      "[[30, 150, 180], [-10, 56], [34], [24, 45, 67, 123, 150], [44], [32, 66, 77, 88]]\n",
      "24/12/05 21:35:42 WARN Utils: Service 'SparkUI' could not bind on port 4040. Attempting port 4041.\n",
      "24/12/05 21:35:42 WARN Utils: Service 'SparkUI' could not bind on port 4041. Attempting port 4042.\n",
      "[24, 45, 67, 123, 150]\n"
     ]
    }
   ],
   "source": [
    "from pyspark import SparkContext\n",
    "\n",
    "# Original data\n",
    "data = [30, 150, 180, -10, 56, 34, 24, 45, 67, 123, 150, 44, 32, 66, 77, 88]\n",
    "\n",
    "# Function to split data into ordered sequences\n",
    "def split_into_sequences(data):\n",
    "    sequences = []\n",
    "    seq = [data[0]]\n",
    "    \n",
    "    for x in data[1:]:\n",
    "        if x >= seq[-1]:\n",
    "            seq.append(x)\n",
    "        else:\n",
    "            sequences.append(seq)\n",
    "            seq = [x]\n",
    "    \n",
    "    if seq:\n",
    "        sequences.append(seq)\n",
    "    \n",
    "    return sequences\n",
    "\n",
    "# Get ordered sequences\n",
    "sequences = split_into_sequences(data)\n",
    "print(sequences)\n",
    "\n",
    "# Initialize Spark context\n",
    "sc = SparkContext(\"local\", \"LongestSequence\")\n",
    "\n",
    "# Create RDD from sequences and find the longest one\n",
    "longest_sequence = sc.parallelize(sequences).max(key=len)\n",
    "print(longest_sequence)\n",
    "\n",
    "# Stop Spark context\n",
    "sc.stop()"
   ]
  }
 ],
 "metadata": {
  "kernelspec": {
   "display_name": "Python 3",
   "language": "python",
   "name": "python3"
  },
  "language_info": {
   "codemirror_mode": {
    "name": "ipython",
    "version": 3
   },
   "file_extension": ".py",
   "mimetype": "text/x-python",
   "name": "python",
   "nbconvert_exporter": "python",
   "pygments_lexer": "ipython3",
   "version": "3.13.0"
  }
 },
 "nbformat": 4,
 "nbformat_minor": 5
}
